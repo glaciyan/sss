{
 "cells": [
  {
   "cell_type": "code",
   "execution_count": null,
   "metadata": {
    "ExecuteTime": {
     "start_time": "2023-04-19T12:37:56.665726Z",
     "end_time": "2023-04-19T12:37:56.765915Z"
    }
   },
   "outputs": [],
   "source": [
    "import glob\n",
    "\n",
    "import numpy as np\n",
    "from pylab import *\n",
    "\n",
    "\n",
    "def read_ps_voltage(file):\n",
    "    read_data = np.genfromtxt(file, skip_header=1, delimiter=',')\n",
    "    return read_data[:, 1]"
   ]
  },
  {
   "cell_type": "markdown",
   "metadata": {},
   "source": [
    "# Messungen\n",
    "\n",
    "Wir haben angefangen 20 verschiedene Entfernungen zu messen und diese mit der Picoscope Software in 20 einzelne CSV Dateien gespeichert."
   ]
  },
  {
   "cell_type": "code",
   "execution_count": null,
   "metadata": {
    "ExecuteTime": {
     "start_time": "2023-04-19T12:37:56.691278Z",
     "end_time": "2023-04-19T12:37:56.785445Z"
    }
   },
   "outputs": [],
   "source": [
    "files = glob.glob(\"cleaned/*cm*.csv\")\n",
    "\n",
    "# [reference in mm, all voltage values]\n",
    "data = {\n",
    "    100: read_ps_voltage(files[0]),\n",
    "    130: read_ps_voltage(files[1]),\n",
    "    160: read_ps_voltage(files[2]),\n",
    "    180: read_ps_voltage(files[3]),\n",
    "    220: read_ps_voltage(files[4]),\n",
    "    245: read_ps_voltage(files[5]),\n",
    "    250: read_ps_voltage(files[6]),\n",
    "    280: read_ps_voltage(files[7]),\n",
    "    300: read_ps_voltage(files[8]),\n",
    "    340: read_ps_voltage(files[9]),\n",
    "    380: read_ps_voltage(files[10]),\n",
    "    410: read_ps_voltage(files[11]),\n",
    "    460: read_ps_voltage(files[12]),\n",
    "    490: read_ps_voltage(files[13]),\n",
    "    520: read_ps_voltage(files[14]),\n",
    "    580: read_ps_voltage(files[15]),\n",
    "    620: read_ps_voltage(files[16]),\n",
    "    650: read_ps_voltage(files[17]),\n",
    "    690: read_ps_voltage(files[18]),\n",
    "    710: read_ps_voltage(files[19]),\n",
    "}\n",
    "\n",
    "data_mean = {k: np.mean(v) for k, v in data.items()}\n",
    "\n",
    "measurements = np.array(list(data_mean.items()))\n",
    "distances = measurements[:, 0]\n",
    "voltages = measurements[:, 1]"
   ]
  },
  {
   "cell_type": "markdown",
   "metadata": {},
   "source": [
    "# Plotten und Logarithm\n",
    "\n",
    "Wir können jetzt diese daten plotten. Sie haben die form $y = x^a$ deswegen müssen wir sie logarithmieren."
   ]
  },
  {
   "cell_type": "code",
   "execution_count": null,
   "metadata": {
    "ExecuteTime": {
     "start_time": "2023-04-19T12:37:56.785445Z",
     "end_time": "2023-04-19T12:37:56.966095Z"
    }
   },
   "outputs": [],
   "source": [
    "subplot(1, 2, 1)\n",
    "scatter(voltages, distances)\n",
    "\n",
    "title(\"Original\")\n",
    "ylabel(\"Distance (mm)\")\n",
    "xlabel(\"Voltage\")\n",
    "\n",
    "log_distances = np.log(distances)\n",
    "log_voltages = np.log(voltages)\n",
    "\n",
    "subplot(1, 2, 2)\n",
    "scatter(log_voltages, log_distances)\n",
    "\n",
    "title(\"Logarithm\")\n",
    "ylabel(\"Distance (mm)\")\n",
    "xlabel(\"Voltage\")\n",
    "\n",
    "show()"
   ]
  },
  {
   "cell_type": "markdown",
   "source": [
    "# Lineare Regression\n",
    "\n",
    "Jetzt können wir für die lineare Regression $a$ und $b$ berechnen.\n",
    "\n",
    "Wir verwenden:\n",
    "\n",
    "$a=\\frac{\\sum_{i=1}^{n}(x_i-\\bar{x})*(y_i-\\bar{y})}{\\sum_{i=1}^{n}(x_i-\\bar{x})^2}$ und $b=\\bar{y}-a*\\bar{x}$"
   ],
   "metadata": {
    "collapsed": false
   }
  },
  {
   "cell_type": "code",
   "execution_count": null,
   "outputs": [],
   "source": [
    "x = log_voltages\n",
    "y = log_distances\n",
    "\n",
    "x_mean = np.mean(x)\n",
    "y_mean = np.mean(y)\n",
    "\n",
    "a = np.divide(np.sum((x - x_mean) * (y - y_mean)),\n",
    "              np.sum((x - x_mean) ** 2))\n",
    "\n",
    "b = y_mean - a * x_mean"
   ],
   "metadata": {
    "collapsed": false,
    "ExecuteTime": {
     "start_time": "2023-04-19T12:37:56.966095Z",
     "end_time": "2023-04-19T12:37:56.981770Z"
    }
   }
  },
  {
   "cell_type": "markdown",
   "source": [
    "Das plotten wir noch."
   ],
   "metadata": {
    "collapsed": false
   }
  },
  {
   "cell_type": "code",
   "execution_count": null,
   "outputs": [],
   "source": [
    "lin = np.linspace(-1, 1)\n",
    "y_lin = a * lin + b\n",
    "\n",
    "figure()\n",
    "\n",
    "scatter(log_voltages, log_distances)\n",
    "plot(lin, y_lin, 'r')\n",
    "\n",
    "# TODO labels drehen\n",
    "title(\"Logarithm\")\n",
    "xlabel(\"Distance (mm)\")\n",
    "ylabel(\"Voltage\")\n",
    "show()"
   ],
   "metadata": {
    "collapsed": false,
    "ExecuteTime": {
     "start_time": "2023-04-19T12:37:56.988676Z",
     "end_time": "2023-04-19T12:37:57.176185Z"
    }
   }
  },
  {
   "cell_type": "markdown",
   "source": [
    "Wir rechnen die lineare regression in eine exponentielle regression um indem wir $y = e^b * x^a$ anwenden."
   ],
   "metadata": {
    "collapsed": false
   }
  },
  {
   "cell_type": "code",
   "execution_count": null,
   "outputs": [],
   "source": [
    "def exp_regression(x):\n",
    "    return np.exp(b) * x ** a\n",
    "\n",
    "xc = np.linspace(0.4, 2)\n",
    "yc = exp_regression(xc)\n",
    "\n",
    "figure()\n",
    "\n",
    "scatter(voltages, distances)\n",
    "plot(xc, yc, 'r')\n",
    "\n",
    "# TODO labels drehen\n",
    "title(\"Measurements\")\n",
    "xlabel(\"Distance (mm)\")\n",
    "ylabel(\"Voltage\")\n",
    "show()\n"
   ],
   "metadata": {
    "collapsed": false,
    "ExecuteTime": {
     "start_time": "2023-04-19T12:39:49.777396Z",
     "end_time": "2023-04-19T12:39:49.886581Z"
    }
   }
  },
  {
   "cell_type": "markdown",
   "source": [
    "# Fehlerrechnung\n",
    "\n"
   ],
   "metadata": {
    "collapsed": false
   }
  },
  {
   "cell_type": "code",
   "execution_count": null,
   "outputs": [],
   "source": [
    "# wahrer wert\n",
    "dina4_breite_mm = 210\n",
    "\n",
    "# gemessene werte\n",
    "measured_dina4_breite_v = { \"data\": read_ps_voltage(\"./cleaned/dina4_breite_cleaned.csv\") }\n",
    "\n",
    "measured_dina4_breite_v[\"mean\"] = np.mean(measured_dina4_breite_v[\"data\"])\n",
    "measured_dina4_breite_v[\"std\"] = np.std(measured_dina4_breite_v[\"data\"])\n",
    "measured_dina4_breite_v[\"stdmean\"] = measured_dina4_breite_v[\"std\"] / np.sqrt(measured_dina4_breite_v[\"data\"].size)"
   ],
   "metadata": {
    "collapsed": false,
    "ExecuteTime": {
     "start_time": "2023-04-19T12:37:13.431860Z",
     "end_time": "2023-04-19T12:37:13.494884Z"
    }
   }
  },
  {
   "cell_type": "markdown",
   "source": [
    "## 68 % Vertrauensbereich"
   ],
   "metadata": {
    "collapsed": false
   }
  },
  {
   "cell_type": "code",
   "execution_count": null,
   "outputs": [],
   "source": [
    "print(\"+-\", str(measured_dina4_breite_v[\"stdmean\"]))"
   ],
   "metadata": {
    "collapsed": false,
    "ExecuteTime": {
     "start_time": "2023-04-19T12:37:13.453369Z",
     "end_time": "2023-04-19T12:37:13.494884Z"
    }
   }
  },
  {
   "cell_type": "markdown",
   "source": [
    "## 95 % Vertrauensbereich"
   ],
   "metadata": {
    "collapsed": false
   }
  },
  {
   "cell_type": "code",
   "execution_count": null,
   "outputs": [],
   "source": [
    "print(\"+-\", str(2*measured_dina4_breite_v[\"stdmean\"]))"
   ],
   "metadata": {
    "collapsed": false,
    "ExecuteTime": {
     "start_time": "2023-04-19T12:37:13.475566Z",
     "end_time": "2023-04-19T12:37:13.494884Z"
    }
   }
  },
  {
   "cell_type": "markdown",
   "source": [
    "# Flächenmessung\n",
    "\n",
    "Ein DIN A4 Blatt hat das Format $297 mm * 210 mm$\n",
    "\n",
    "Die fläche sollte $62370mm^2$."
   ],
   "metadata": {
    "collapsed": false
   }
  },
  {
   "cell_type": "code",
   "execution_count": 153,
   "outputs": [
    {
     "data": {
      "text/plain": "60009.60425731316"
     },
     "execution_count": 153,
     "metadata": {},
     "output_type": "execute_result"
    }
   ],
   "source": [
    "estimated_width = exp_regression(measured_dina4_breite_v[\"mean\"])\n",
    "estimated_height = estimated_width * 1.4142\n",
    "flaeche = estimated_width * estimated_height\n",
    "flaeche"
   ],
   "metadata": {
    "collapsed": false,
    "ExecuteTime": {
     "start_time": "2023-04-19T12:45:20.193651Z",
     "end_time": "2023-04-19T12:45:20.202329Z"
    }
   }
  }
 ],
 "metadata": {
  "kernelspec": {
   "display_name": "Python 3 (ipykernel)",
   "language": "python",
   "name": "python3"
  },
  "language_info": {
   "codemirror_mode": {
    "name": "ipython",
    "version": 3
   },
   "file_extension": ".py",
   "mimetype": "text/x-python",
   "name": "python",
   "nbconvert_exporter": "python",
   "pygments_lexer": "ipython3",
   "version": "3.9.13"
  }
 },
 "nbformat": 4,
 "nbformat_minor": 1
}
